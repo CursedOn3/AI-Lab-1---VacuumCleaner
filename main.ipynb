{
  "nbformat": 4,
  "nbformat_minor": 0,
  "metadata": {
    "colab": {
      "provenance": [],
      "authorship_tag": "ABX9TyMN9NS3coxAd+ATBukeW8ks",
      "include_colab_link": true
    },
    "kernelspec": {
      "name": "python3",
      "display_name": "Python 3"
    },
    "language_info": {
      "name": "python"
    }
  },
  "cells": [
    {
      "cell_type": "markdown",
      "metadata": {
        "id": "view-in-github",
        "colab_type": "text"
      },
      "source": [
        "<a href=\"https://colab.research.google.com/github/CursedOn3/AI-Lab-1---VacuumCleaner/blob/main/main.ipynb\" target=\"_parent\"><img src=\"https://colab.research.google.com/assets/colab-badge.svg\" alt=\"Open In Colab\"/></a>"
      ]
    },
    {
      "cell_type": "code",
      "execution_count": 1,
      "metadata": {
        "colab": {
          "base_uri": "https://localhost:8080/"
        },
        "id": "b3wqcxQAFnIH",
        "outputId": "4d7ee63e-954b-4b17-b756-d81cd3c2f744"
      },
      "outputs": [
        {
          "output_type": "stream",
          "name": "stdout",
          "text": [
            "pygame 2.6.1 (SDL 2.28.4, Python 3.11.13)\n",
            "Hello from the pygame community. https://www.pygame.org/contribute.html\n"
          ]
        }
      ],
      "source": [
        "#imports\n",
        "import pygame\n",
        "import random\n",
        "from collections import deque\n",
        "import sys"
      ]
    },
    {
      "cell_type": "code",
      "source": [
        "#Configurations\n",
        "GRID_SIZE = 9\n",
        "CELL_SIZE = 50\n",
        "MARGIN = 2\n",
        "WIDTH = GRID_SIZE * CELL_SIZE\n",
        "HEIGHT = GRID_SIZE * CELL_SIZE + 300"
      ],
      "metadata": {
        "id": "HGdBjK9aF_hV"
      },
      "execution_count": 2,
      "outputs": []
    },
    {
      "cell_type": "code",
      "source": [
        "#Colors\n",
        "DIRTY_COLOR = (255, 180, 180)\n",
        "CLEAN_COLOR = (180, 255, 180)\n",
        "AGENT_COLOR = (0, 0, 255)\n",
        "GOAL_COLOR = (255, 255, 0)\n",
        "TEXT_COLOR = (255, 255, 255)\n",
        "BG_COLOR = (30, 30, 30)"
      ],
      "metadata": {
        "id": "J5ozj4DgGIvf"
      },
      "execution_count": 3,
      "outputs": []
    },
    {
      "cell_type": "code",
      "source": [
        "#Environment Setup\n",
        "room = [[random.choice([0, 1]) for _ in range(GRID_SIZE)] for _ in range(GRID_SIZE)]\n",
        "memory = [[-1 for _ in range(GRID_SIZE)] for _ in range(GRID_SIZE)]  # -1: unknown, 0: clean, 1: dirty"
      ],
      "metadata": {
        "id": "rOA6MVuBGMmg"
      },
      "execution_count": 4,
      "outputs": []
    },
    {
      "cell_type": "code",
      "source": [
        "#Agent State\n",
        "agent_x, agent_y = 3, 3\n",
        "log = []\n",
        "path_to_goal = []\n",
        "moves = 0"
      ],
      "metadata": {
        "id": "HGSsG-kUGTQf"
      },
      "execution_count": 5,
      "outputs": []
    },
    {
      "cell_type": "code",
      "source": [
        "#pygame Setup\n",
        "pygame.init()\n",
        "screen = pygame.display.set_mode((WIDTH, HEIGHT))\n",
        "pygame.display.set_caption(\"Simple Goal-Based Agent\")\n",
        "font = pygame.font.SysFont(\"consolas\", 16)"
      ],
      "metadata": {
        "id": "pZ5LEJR5GZv1"
      },
      "execution_count": 6,
      "outputs": []
    },
    {
      "cell_type": "code",
      "source": [
        "def draw_text(text, x, y, color=TEXT_COLOR):\n",
        "    lines = text.split('\\n')\n",
        "    for i, line in enumerate(lines):\n",
        "        rendered = font.render(line, True, color)\n",
        "        screen.blit(rendered, (x, y + i * 18))"
      ],
      "metadata": {
        "id": "02CwCJyFGjHR"
      },
      "execution_count": 7,
      "outputs": []
    },
    {
      "cell_type": "code",
      "source": [
        "def draw_environment():\n",
        "    for y in range(GRID_SIZE):\n",
        "        for x in range(GRID_SIZE):\n",
        "            color = CLEAN_COLOR if room[y][x] == 0 else DIRTY_COLOR\n",
        "            pygame.draw.rect(screen, color, (x * CELL_SIZE, y * CELL_SIZE, CELL_SIZE - MARGIN, CELL_SIZE - MARGIN))\n",
        "            label = \"C\" if room[y][x] == 0 else \"D\"\n",
        "            text = font.render(label, True, (0, 0, 0))\n",
        "            screen.blit(text, (x * CELL_SIZE + 18, y * CELL_SIZE + 14))\n",
        "\n",
        "            if (x, y) == (agent_x, agent_y):\n",
        "                pygame.draw.rect(screen, AGENT_COLOR, (x * CELL_SIZE, y * CELL_SIZE, CELL_SIZE - MARGIN, CELL_SIZE - MARGIN), 3)\n"
      ],
      "metadata": {
        "id": "nT0LziuBGlm9"
      },
      "execution_count": 8,
      "outputs": []
    },
    {
      "cell_type": "code",
      "source": [
        "def get_neighbors(x, y):\n",
        "    directions = [(-1, 0), (1, 0), (0, -1), (0, 1)]\n",
        "    neighbors = []\n",
        "\n",
        "    for dx, dy in directions:\n",
        "        nx, ny = x + dx, y + dy\n",
        "        if 0 <= nx < GRID_SIZE and 0 <= ny < GRID_SIZE:\n",
        "            neighbors.append((nx, ny))\n",
        "    return neighbors"
      ],
      "metadata": {
        "id": "11_vjARWGn8B"
      },
      "execution_count": 9,
      "outputs": []
    },
    {
      "cell_type": "code",
      "source": [
        "def all_cells_clean():\n",
        "    return all(cell == 0 for row in room for cell in row)"
      ],
      "metadata": {
        "id": "Pgz6FwkpGqyW"
      },
      "execution_count": 10,
      "outputs": []
    },
    {
      "cell_type": "code",
      "source": [
        "def find_dirty_cell(start_x, start_y):\n",
        "    queue = deque([(start_x, start_y, [])])\n",
        "    visited = set()\n",
        "\n",
        "    while queue:\n",
        "        x, y, path = queue.popleft()\n",
        "        if (x, y) in visited:\n",
        "            continue\n",
        "        visited.add((x, y))\n",
        "\n",
        "        if room[y][x] == 1:\n",
        "            return path + [(x, y)]\n",
        "\n",
        "        for nx, ny in get_neighbors(x, y):\n",
        "            queue.append((nx, ny, path + [(x, y)]))\n",
        "\n",
        "    return []"
      ],
      "metadata": {
        "id": "9o9jVywxGtco"
      },
      "execution_count": 11,
      "outputs": []
    },
    {
      "cell_type": "code",
      "source": [
        "def clean_cell():\n",
        "    global room, memory\n",
        "    if room[agent_y][agent_x] == 1:\n",
        "        room[agent_y][agent_x] = 0\n",
        "        memory[agent_y][agent_x] = 1\n",
        "        log.append(f\"Cleaned ({agent_x}, {agent_y})\")\n",
        "    else:\n",
        "        memory[agent_y][agent_x] = 0\n",
        "        log.append(f\"Checked clean cell ({agent_x}, {agent_y})\")\n",
        "\n"
      ],
      "metadata": {
        "id": "m2YO4iVBGvZO"
      },
      "execution_count": 12,
      "outputs": []
    },
    {
      "cell_type": "code",
      "source": [
        "def move_agent():\n",
        "    global agent_x, agent_y, moves, path_to_goal\n",
        "    if not path_to_goal:\n",
        "        path_to_goal = find_dirty_cell(agent_x, agent_y)\n",
        "\n",
        "    if path_to_goal:\n",
        "        agent_x, agent_y = path_to_goal.pop(0)\n",
        "        moves += 1\n",
        "        log.append(f\"Moved to ({agent_x}, {agent_y})\")\n"
      ],
      "metadata": {
        "id": "VQi9z1XnGxBr"
      },
      "execution_count": 13,
      "outputs": []
    },
    {
      "cell_type": "code",
      "source": [
        "def display_status():\n",
        "    draw_text(f\"Moves: {moves}\", 10, GRID_SIZE * CELL_SIZE + 10)\n",
        "    mem_display = \"\\n\".join(str(row) for row in memory)\n",
        "    draw_text(\"Memory:\\n\" + mem_display, 10, GRID_SIZE * CELL_SIZE + 40)\n",
        "    draw_text(\"Log:\\n\" + \"\\n\".join(log[-8:]), 250, GRID_SIZE * CELL_SIZE + 40)\n",
        "\n"
      ],
      "metadata": {
        "id": "ZsPArjj8GzAs"
      },
      "execution_count": 14,
      "outputs": []
    },
    {
      "cell_type": "code",
      "source": [
        "#Main Game Loop\n",
        "running = True\n",
        "while running:\n",
        "    screen.fill(BG_COLOR)\n",
        "    draw_environment()\n",
        "    display_status()\n",
        "    draw_text(\"Press ENTER for next move or ESC to quit.\", 10, HEIGHT - 30)\n",
        "    pygame.display.flip()\n",
        "\n",
        "    for event in pygame.event.get():\n",
        "        if event.type == pygame.QUIT:\n",
        "            running = False\n",
        "\n",
        "        elif event.type == pygame.KEYDOWN:\n",
        "            if event.key == pygame.K_ESCAPE:\n",
        "                running = False\n",
        "            elif event.key == pygame.K_RETURN:\n",
        "                if not all_cells_clean():\n",
        "                    clean_cell()\n",
        "                    move_agent()\n",
        "\n",
        "    if all_cells_clean() and \"Cleaning Complete!\" not in log:\n",
        "        log.append(\"Cleaning Complete!\")\n"
      ],
      "metadata": {
        "colab": {
          "base_uri": "https://localhost:8080/",
          "height": 219
        },
        "id": "4SGir4xhG1C9",
        "outputId": "bcaffe84-f55c-46ee-a6a6-3c76777af32d"
      },
      "execution_count": 15,
      "outputs": [
        {
          "output_type": "error",
          "ename": "KeyboardInterrupt",
          "evalue": "",
          "traceback": [
            "\u001b[0;31m---------------------------------------------------------------------------\u001b[0m",
            "\u001b[0;31mKeyboardInterrupt\u001b[0m                         Traceback (most recent call last)",
            "\u001b[0;32m/tmp/ipython-input-15-1333378426.py\u001b[0m in \u001b[0;36m<cell line: 0>\u001b[0;34m()\u001b[0m\n\u001b[1;32m      6\u001b[0m     \u001b[0mdisplay_status\u001b[0m\u001b[0;34m(\u001b[0m\u001b[0;34m)\u001b[0m\u001b[0;34m\u001b[0m\u001b[0;34m\u001b[0m\u001b[0m\n\u001b[1;32m      7\u001b[0m     \u001b[0mdraw_text\u001b[0m\u001b[0;34m(\u001b[0m\u001b[0;34m\"Press ENTER for next move or ESC to quit.\"\u001b[0m\u001b[0;34m,\u001b[0m \u001b[0;36m10\u001b[0m\u001b[0;34m,\u001b[0m \u001b[0mHEIGHT\u001b[0m \u001b[0;34m-\u001b[0m \u001b[0;36m30\u001b[0m\u001b[0;34m)\u001b[0m\u001b[0;34m\u001b[0m\u001b[0;34m\u001b[0m\u001b[0m\n\u001b[0;32m----> 8\u001b[0;31m     \u001b[0mpygame\u001b[0m\u001b[0;34m.\u001b[0m\u001b[0mdisplay\u001b[0m\u001b[0;34m.\u001b[0m\u001b[0mflip\u001b[0m\u001b[0;34m(\u001b[0m\u001b[0;34m)\u001b[0m\u001b[0;34m\u001b[0m\u001b[0;34m\u001b[0m\u001b[0m\n\u001b[0m\u001b[1;32m      9\u001b[0m \u001b[0;34m\u001b[0m\u001b[0m\n\u001b[1;32m     10\u001b[0m     \u001b[0;32mfor\u001b[0m \u001b[0mevent\u001b[0m \u001b[0;32min\u001b[0m \u001b[0mpygame\u001b[0m\u001b[0;34m.\u001b[0m\u001b[0mevent\u001b[0m\u001b[0;34m.\u001b[0m\u001b[0mget\u001b[0m\u001b[0;34m(\u001b[0m\u001b[0;34m)\u001b[0m\u001b[0;34m:\u001b[0m\u001b[0;34m\u001b[0m\u001b[0;34m\u001b[0m\u001b[0m\n",
            "\u001b[0;31mKeyboardInterrupt\u001b[0m: "
          ]
        }
      ]
    },
    {
      "cell_type": "code",
      "source": [
        "#Termination\n",
        "pygame.quit()\n",
        "sys.exit()"
      ],
      "metadata": {
        "id": "h55QD-F2G6S2"
      },
      "execution_count": null,
      "outputs": []
    }
  ]
}